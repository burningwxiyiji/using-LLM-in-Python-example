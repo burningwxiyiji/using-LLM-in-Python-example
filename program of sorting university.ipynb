{
 "cells": [
  {
   "cell_type": "markdown",
   "metadata": {},
   "source": [
    "# sorting program\n"
   ]
  },
  {
   "cell_type": "code",
   "execution_count": 3,
   "metadata": {},
   "outputs": [
    {
     "name": "stdout",
     "output_type": "stream",
     "text": [
      "Requirement already satisfied: pandas in d:\\ruanjian\\anacoda\\anaconda\\lib\\site-packages (2.1.4)\n",
      "Requirement already satisfied: numpy<2,>=1.23.2 in d:\\ruanjian\\anacoda\\anaconda\\lib\\site-packages (from pandas) (1.26.4)\n",
      "Requirement already satisfied: python-dateutil>=2.8.2 in d:\\ruanjian\\anacoda\\anaconda\\lib\\site-packages (from pandas) (2.8.2)\n",
      "Requirement already satisfied: pytz>=2020.1 in d:\\ruanjian\\anacoda\\anaconda\\lib\\site-packages (from pandas) (2023.3.post1)\n",
      "Requirement already satisfied: tzdata>=2022.1 in d:\\ruanjian\\anacoda\\anaconda\\lib\\site-packages (from pandas) (2023.3)\n",
      "Requirement already satisfied: six>=1.5 in d:\\ruanjian\\anacoda\\anaconda\\lib\\site-packages (from python-dateutil>=2.8.2->pandas) (1.16.0)\n"
     ]
    },
    {
     "name": "stderr",
     "output_type": "stream",
     "text": [
      "ERROR: unknown command \"insatll\" - maybe you meant \"install\"\n",
      "\n"
     ]
    }
   ],
   "source": [
    "# install \n",
    "\n",
    "! pip install pandas\n",
    "! pip insatll openai"
   ]
  },
  {
   "cell_type": "code",
   "execution_count": 18,
   "metadata": {},
   "outputs": [],
   "source": [
    "# import\n",
    "\n",
    "import os\n",
    "import pandas as pd\n",
    "import re\n",
    "import random\n",
    "import openai"
   ]
  },
  {
   "cell_type": "code",
   "execution_count": 5,
   "metadata": {},
   "outputs": [],
   "source": [
    "# dictionary\n",
    "\n",
    "new_directory = 'D:\\\\Python'\n",
    "os.chdir(new_directory)"
   ]
  },
  {
   "cell_type": "code",
   "execution_count": 6,
   "metadata": {},
   "outputs": [],
   "source": [
    "# Specify the open AI package\n",
    "from openai import OpenAI # type: ignore\n",
    "import pandas as pd\n",
    "\n",
    "# Import the necessary modules\n",
    "from IPython.display import display, Markdown # type: ignore\n",
    "\n",
    "client = OpenAI(api_key=\"\", \n",
    "                base_url=\"https://api.deepseek.com\")"
   ]
  },
  {
   "cell_type": "code",
   "execution_count": 7,
   "metadata": {},
   "outputs": [],
   "source": [
    "def get_chat_response(client, prompt):\n",
    "    response = client.chat.completions.create(\n",
    "        model=\"deepseek-chat\",\n",
    "        messages=[\n",
    "            {\"role\": \"system\", \"content\": \"You are a helpful assistant\"},\n",
    "            {\"role\": \"user\", \"content\": prompt},\n",
    "        ],\n",
    "        stream=False\n",
    "    )\n",
    "    return response.choices[0].message.content"
   ]
  },
  {
   "cell_type": "code",
   "execution_count": 13,
   "metadata": {},
   "outputs": [
    {
     "data": {
      "text/html": [
       "<div>\n",
       "<style scoped>\n",
       "    .dataframe tbody tr th:only-of-type {\n",
       "        vertical-align: middle;\n",
       "    }\n",
       "\n",
       "    .dataframe tbody tr th {\n",
       "        vertical-align: top;\n",
       "    }\n",
       "\n",
       "    .dataframe thead th {\n",
       "        text-align: right;\n",
       "    }\n",
       "</style>\n",
       "<table border=\"1\" class=\"dataframe\">\n",
       "  <thead>\n",
       "    <tr style=\"text-align: right;\">\n",
       "      <th></th>\n",
       "      <th>Name</th>\n",
       "      <th>官网</th>\n",
       "      <th>相关导师</th>\n",
       "      <th>lab/取向/特点</th>\n",
       "      <th>方向契合度</th>\n",
       "      <th>program</th>\n",
       "      <th>memo</th>\n",
       "      <th>专排</th>\n",
       "    </tr>\n",
       "  </thead>\n",
       "  <tbody>\n",
       "    <tr>\n",
       "      <th>0</th>\n",
       "      <td>University of California--Berkeley（1）</td>\n",
       "      <td>申</td>\n",
       "      <td>UCB导师 (https://www.notion.so/022649c0e0574fc8b...</td>\n",
       "      <td>有挺多对digital society、SSK之类感兴趣的老师</td>\n",
       "      <td>老师契合</td>\n",
       "      <td>NaN</td>\n",
       "      <td>NaN</td>\n",
       "      <td>NaN</td>\n",
       "    </tr>\n",
       "    <tr>\n",
       "      <th>1</th>\n",
       "      <td>University of Michigan--Ann Arbor（2）</td>\n",
       "      <td>https://lsa.umich.edu/soc\\n申</td>\n",
       "      <td>UM-LSA相关导师  (https://www.notion.so/a2f0b180188...</td>\n",
       "      <td>很多做theory，knowledge and science这个子领域的</td>\n",
       "      <td>都契合</td>\n",
       "      <td>NaN</td>\n",
       "      <td>NaN</td>\n",
       "      <td>NaN</td>\n",
       "    </tr>\n",
       "    <tr>\n",
       "      <th>2</th>\n",
       "      <td>Princeton University（2）（再多关注一下，这些老师的subfield比较...</td>\n",
       "      <td>program说明在研究生院。条件苛刻，不申</td>\n",
       "      <td>princeton导师  (https://www.notion.so/b2db7699e1...</td>\n",
       "      <td>salganik和谢宇在这里，按说做CSS的挺多，但关注数字社会学和社会转型的好像不多</td>\n",
       "      <td>契合计算社科</td>\n",
       "      <td>NaN</td>\n",
       "      <td>NaN</td>\n",
       "      <td>NaN</td>\n",
       "    </tr>\n",
       "    <tr>\n",
       "      <th>3</th>\n",
       "      <td>Harvard University（专排2）</td>\n",
       "      <td>不申</td>\n",
       "      <td>Havard导师  (https://www.notion.so/4bcdbd554a774...</td>\n",
       "      <td>做实证的偏多，有一个中国人关注媒介的，也是偏政治传播，可以试着套一下</td>\n",
       "      <td>都不契合</td>\n",
       "      <td>NaN</td>\n",
       "      <td>NaN</td>\n",
       "      <td>NaN</td>\n",
       "    </tr>\n",
       "    <tr>\n",
       "      <th>4</th>\n",
       "      <td>University of North Carolina--Chapel Hill（专排7）申</td>\n",
       "      <td>https://sociology.unc.edu/\\n申</td>\n",
       "      <td>UNC相关导师 (https://www.notion.so/UNC-64aa405a532...</td>\n",
       "      <td>Cultural &amp; Political Sociology, Genetics and S...</td>\n",
       "      <td>都契合</td>\n",
       "      <td>NaN</td>\n",
       "      <td>（目前官网毕业生里两个中国人，分别做性教育（mailto:mchen16@live.unc....</td>\n",
       "      <td>参考：https://www.usnews.com/best-graduate-school...</td>\n",
       "    </tr>\n",
       "  </tbody>\n",
       "</table>\n",
       "</div>"
      ],
      "text/plain": [
       "                                                Name  \\\n",
       "0              University of California--Berkeley（1）   \n",
       "1               University of Michigan--Ann Arbor（2）   \n",
       "2  Princeton University（2）（再多关注一下，这些老师的subfield比较...   \n",
       "3                            Harvard University（专排2）   \n",
       "4    University of North Carolina--Chapel Hill（专排7）申   \n",
       "\n",
       "                              官网  \\\n",
       "0                              申   \n",
       "1   https://lsa.umich.edu/soc\\n申   \n",
       "2         program说明在研究生院。条件苛刻，不申   \n",
       "3                             不申   \n",
       "4  https://sociology.unc.edu/\\n申   \n",
       "\n",
       "                                                相关导师  \\\n",
       "0  UCB导师 (https://www.notion.so/022649c0e0574fc8b...   \n",
       "1  UM-LSA相关导师  (https://www.notion.so/a2f0b180188...   \n",
       "2  princeton导师  (https://www.notion.so/b2db7699e1...   \n",
       "3  Havard导师  (https://www.notion.so/4bcdbd554a774...   \n",
       "4  UNC相关导师 (https://www.notion.so/UNC-64aa405a532...   \n",
       "\n",
       "                                           lab/取向/特点   方向契合度  program  \\\n",
       "0                    有挺多对digital society、SSK之类感兴趣的老师    老师契合      NaN   \n",
       "1              很多做theory，knowledge and science这个子领域的     都契合      NaN   \n",
       "2        salganik和谢宇在这里，按说做CSS的挺多，但关注数字社会学和社会转型的好像不多  契合计算社科      NaN   \n",
       "3                 做实证的偏多，有一个中国人关注媒介的，也是偏政治传播，可以试着套一下    都不契合      NaN   \n",
       "4  Cultural & Political Sociology, Genetics and S...     都契合      NaN   \n",
       "\n",
       "                                                memo  \\\n",
       "0                                                NaN   \n",
       "1                                                NaN   \n",
       "2                                                NaN   \n",
       "3                                                NaN   \n",
       "4  （目前官网毕业生里两个中国人，分别做性教育（mailto:mchen16@live.unc....   \n",
       "\n",
       "                                                  专排  \n",
       "0                                                NaN  \n",
       "1                                                NaN  \n",
       "2                                                NaN  \n",
       "3                                                NaN  \n",
       "4  参考：https://www.usnews.com/best-graduate-school...  "
      ]
     },
     "execution_count": 13,
     "metadata": {},
     "output_type": "execute_result"
    }
   ],
   "source": [
    "\n",
    "file_path = 'D:/'\n",
    "df = pd.read_csv(file_path)\n",
    "df.head()\n"
   ]
  },
  {
   "cell_type": "code",
   "execution_count": 8,
   "metadata": {},
   "outputs": [],
   "source": [
    "\n",
    "\n",
    "# 初始化一个空列表来存储生成的官网信息\n",
    "import pandas as pd\n",
    "from openai import OpenAI \n",
    "import os\n",
    "import re\n",
    "import random\n",
    "import openai\n",
    "# dictionary\n",
    "\n",
    "new_directory = 'D:\\\\'\n",
    "os.chdir(new_directory)\n",
    "\n",
    "# 初始化API\n",
    "from IPython.display import display, Markdown # type: ignore\n",
    "\n",
    "client = OpenAI(api_key=\"\", \n",
    "                base_url=\"https://api.deepseek.com\")\n",
    "\n",
    "\n",
    "# 定义生成prompt的函数\n",
    "def get_chat_response(client, prompt):\n",
    "    response = client.chat.completions.create(\n",
    "        model=\"deepseek-chat\",\n",
    "        messages=[\n",
    "            {\"role\": \"system\", \"content\": \"You are a helpful assistant\"},\n",
    "            {\"role\": \"user\", \"content\": prompt},\n",
    "        ],\n",
    "        stream=False\n",
    "    )\n",
    "    return response.choices[0].message.content\n",
    "\n",
    "file_path = 'D:/'\n",
    "df = pd.read_csv(file_path)\n",
    "website_info_list = []\n",
    "\n",
    "# 遍历DataFrame的每一行\n",
    "for index, row in df.iterrows():\n",
    "    # 生成每个学校的prompt\n",
    "    user_prompt = f\"告诉我{row['Name']}社会学系官网\"\n",
    "    \n",
    "    # 获取API响应\n",
    "    response_content = get_chat_response(client, user_prompt)\n",
    "    \n",
    "    # 将响应内容添加到列表中\n",
    "    website_info_list.append(response_content)\n",
    "\n",
    "# 将生成的官网信息填充到DataFrame的新列中\n",
    "df['社会学系官网'] = website_info_list"
   ]
  },
  {
   "cell_type": "code",
   "execution_count": 12,
   "metadata": {},
   "outputs": [
    {
     "name": "stdout",
     "output_type": "stream",
     "text": [
      "                                                Name  \\\n",
      "0              University of California--Berkeley（1）   \n",
      "1               University of Michigan--Ann Arbor（2）   \n",
      "2  Princeton University（2）（再多关注一下，这些老师的subfield比较...   \n",
      "3                            Harvard University（专排2）   \n",
      "4    University of North Carolina--Chapel Hill（专排7）申   \n",
      "\n",
      "                              官网  \\\n",
      "0                              申   \n",
      "1   https://lsa.umich.edu/soc\\n申   \n",
      "2         program说明在研究生院。条件苛刻，不申   \n",
      "3                             不申   \n",
      "4  https://sociology.unc.edu/\\n申   \n",
      "\n",
      "                                                相关导师  \\\n",
      "0  UCB导师 (https://www.notion.so/022649c0e0574fc8b...   \n",
      "1  UM-LSA相关导师  (https://www.notion.so/a2f0b180188...   \n",
      "2  princeton导师  (https://www.notion.so/b2db7699e1...   \n",
      "3  Havard导师  (https://www.notion.so/4bcdbd554a774...   \n",
      "4  UNC相关导师 (https://www.notion.so/UNC-64aa405a532...   \n",
      "\n",
      "                                           lab/取向/特点   方向契合度  program  \\\n",
      "0                    有挺多对digital society、SSK之类感兴趣的老师    老师契合      NaN   \n",
      "1              很多做theory，knowledge and science这个子领域的     都契合      NaN   \n",
      "2        salganik和谢宇在这里，按说做CSS的挺多，但关注数字社会学和社会转型的好像不多  契合计算社科      NaN   \n",
      "3                 做实证的偏多，有一个中国人关注媒介的，也是偏政治传播，可以试着套一下    都不契合      NaN   \n",
      "4  Cultural & Political Sociology, Genetics and S...     都契合      NaN   \n",
      "\n",
      "                                                memo  \\\n",
      "0                                                NaN   \n",
      "1                                                NaN   \n",
      "2                                                NaN   \n",
      "3                                                NaN   \n",
      "4  （目前官网毕业生里两个中国人，分别做性教育（mailto:mchen16@live.unc....   \n",
      "\n",
      "                                                  专排  \\\n",
      "0                                                NaN   \n",
      "1                                                NaN   \n",
      "2                                                NaN   \n",
      "3                                                NaN   \n",
      "4  参考：https://www.usnews.com/best-graduate-school...   \n",
      "\n",
      "                                              社会学系官网  \n",
      "0  加州大学伯克利分校（University of California, Berkeley）的...  \n",
      "1  很抱歉，我无法直接访问互联网或提供实时链接。但是，我可以指导您如何找到University ...  \n",
      "2  普林斯顿大学（Princeton University）社会学系是一个享有国际声誉的学术机构...  \n",
      "3  哈佛大学（Harvard University）的社会学系官网可以通过以下链接访问：\\n[H...  \n",
      "4  要查找University of North Carolina at Chapel Hill...  \n"
     ]
    }
   ],
   "source": [
    "updated_file_path = 'updated_file.csv'\n",
    "df.to_csv(updated_file_path, index=False)\n",
    "updated_file_path = 'updated_shenqing.xlsx'\n",
    "df.to_excel(updated_file_path, index=False)\n",
    "print(df.head())"
   ]
  },
  {
   "cell_type": "code",
   "execution_count": 10,
   "metadata": {},
   "outputs": [
    {
     "name": "stdout",
     "output_type": "stream",
     "text": [
      "Requirement already satisfied: openpyxl in d:\\ruanjian\\anacoda\\anaconda\\lib\\site-packages (3.0.10)\n",
      "Requirement already satisfied: et_xmlfile in d:\\ruanjian\\anacoda\\anaconda\\lib\\site-packages (from openpyxl) (1.1.0)\n"
     ]
    }
   ],
   "source": [
    "! pip install openpyxl\n",
    "updated_file_path = 'updated.xlsx'"
   ]
  },
  {
   "cell_type": "code",
   "execution_count": null,
   "metadata": {},
   "outputs": [],
   "source": []
  },
  {
   "cell_type": "markdown",
   "metadata": {},
   "source": [
    "　更新一下文件"
   ]
  },
  {
   "cell_type": "code",
   "execution_count": 14,
   "metadata": {},
   "outputs": [],
   "source": [
    "csv_file_path = 'updated_file.csv'\n",
    "df = pd.read_csv(csv_file_path)\n",
    "\n",
    "# 定义一个函数来过滤并保留包含 'https://www.' 的网址\n",
    "def filter_url(url):\n",
    "    if pd.notna(url) and 'https://www.' in url:\n",
    "        # 提取以 'https://www.' 开头的 URL\n",
    "        match = re.search(r'https://www\\.[^\\s]+', url)\n",
    "        if match:\n",
    "            return match.group(0)\n",
    "    return None\n",
    "\n",
    "# 应用过滤函数到 '社会学系官网' 列\n",
    "df['社会学系官网'] = df['社会学系官网'].apply(filter_url)\n",
    "\n",
    "# 删除所有没有匹配到的网址的行\n",
    "df = df.dropna(subset=['社会学系官网'])\n",
    "\n",
    "# 保存处理后的数据为新的Excel文件\n",
    "excel_file_path = 'filtered_file.xlsx'\n",
    "df.to_excel(excel_file_path, index=False)\n"
   ]
  },
  {
   "cell_type": "code",
   "execution_count": 18,
   "metadata": {},
   "outputs": [],
   "source": [
    "csv_file_path = 'updated_file.csv'\n",
    "df = pd.read_csv(csv_file_path)\n",
    "\n",
    "# 定义一个函数来过滤并保留包含 'https://www.' 的网址\n",
    "def filter_url(url):\n",
    "    if pd.notna(url) and 'https://www.' in url:\n",
    "        # 提取以 'https://www.' 开头的 URL\n",
    "        match = re.search(r'https://www\\.[^\\s]+', url)\n",
    "        if match:\n",
    "            return match.group(0)\n",
    "    return None\n",
    "\n",
    "# 应用过滤函数到 '社会学系官网' 列\n",
    "df['社会学系官网'] = df['社会学系官网'].apply(filter_url)\n",
    "\n",
    "# 保存处理后的数据为新的Excel文件\n",
    "excel_file_path = 'filtered.xlsx'\n",
    "df.to_excel(excel_file_path, index=False)"
   ]
  }
 ],
 "metadata": {
  "kernelspec": {
   "display_name": "Python 3",
   "language": "python",
   "name": "python3"
  },
  "language_info": {
   "codemirror_mode": {
    "name": "ipython",
    "version": 3
   },
   "file_extension": ".py",
   "mimetype": "text/x-python",
   "name": "python",
   "nbconvert_exporter": "python",
   "pygments_lexer": "ipython3",
   "version": "3.11.7"
  }
 },
 "nbformat": 4,
 "nbformat_minor": 2
}
